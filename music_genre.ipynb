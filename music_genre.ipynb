{
 "cells": [
  {
   "cell_type": "code",
   "execution_count": 6,
   "id": "070d6926-9fa1-49fb-9613-09cbd58f924a",
   "metadata": {},
   "outputs": [],
   "source": [
    "import numpy as np # used for arrays & loading data\n",
    "import tensorflow as tf # arrays & loading data\n",
    "from tensorflow.keras.models import Sequential  # model type that we will use\n",
    "from tensorflow.keras.layers import Dense # we will use Dense layers\n",
    "from tensorflow.keras.activations import linear, relu, sigmoid # some activation functions that we may use\n",
    "\n",
    "# suppress warnings\n",
    "tf.get_logger().setLevel('ERROR')\n",
    "tf.autograph.set_verbosity(0)"
   ]
  },
  {
   "cell_type": "code",
   "execution_count": 7,
   "id": "4722ba3f-f993-4031-95e8-b56c2e771795",
   "metadata": {},
   "outputs": [
    {
     "name": "stdout",
     "output_type": "stream",
     "text": [
      "(17996, 15)\n"
     ]
    }
   ],
   "source": [
    "# loading all the data\n",
    "train_data = np.loadtxt('train.csv', delimiter=',', skiprows=1 )\n",
    "print(train_data.shape)"
   ]
  },
  {
   "cell_type": "code",
   "execution_count": 11,
   "id": "f23d4a7f-497d-45e6-866e-81ae897dbb4a",
   "metadata": {},
   "outputs": [
    {
     "name": "stdout",
     "output_type": "stream",
     "text": [
      "[[ 6.00000e+01  8.54000e-01  5.64000e-01  1.00000e+00 -4.96400e+00\n",
      "   1.00000e+00  4.85000e-02  1.71000e-02  0.00000e+00  8.49000e-02\n",
      "   8.99000e-01  1.34071e+02  2.34596e+05  4.00000e+00]\n",
      " [ 5.40000e+01  3.82000e-01  8.14000e-01  3.00000e+00 -7.23000e+00\n",
      "   1.00000e+00  4.06000e-02  1.10000e-03  4.01000e-03  1.01000e-01\n",
      "   5.69000e-01  1.16454e+02  2.51733e+05  4.00000e+00]\n",
      " [ 3.50000e+01  4.34000e-01  6.14000e-01  6.00000e+00 -8.33400e+00\n",
      "   1.00000e+00  5.25000e-02  4.86000e-01  1.96000e-04  3.94000e-01\n",
      "   7.87000e-01  1.47681e+02  1.09667e+05  4.00000e+00]\n",
      " [ 6.60000e+01  8.53000e-01  5.97000e-01  1.00000e+01 -6.52800e+00\n",
      "   0.00000e+00  5.55000e-02  2.12000e-02  0.00000e+00  1.22000e-01\n",
      "   5.69000e-01  1.07033e+02  1.73968e+05  4.00000e+00]\n",
      " [ 5.30000e+01  1.67000e-01  9.75000e-01  2.00000e+00 -4.27900e+00\n",
      "   1.00000e+00  2.16000e-01  1.69000e-04  1.61000e-02  1.72000e-01\n",
      "   9.18000e-02  1.99060e+02  2.29960e+05  4.00000e+00]]\n",
      "[[ 5.]\n",
      " [10.]\n",
      " [ 6.]\n",
      " [ 5.]\n",
      " [10.]]\n",
      "(17996, 14)\n",
      "(17996, 1)\n"
     ]
    }
   ],
   "source": [
    "X_train = train_data[:,:-1] # forming the input and output of the training data\n",
    "y_train = train_data[:,-1]\n",
    "\n",
    "y_train = np.expand_dims(y_train, axis=1) # make y 2D - the commands later will require it\n",
    "print(X_train[:5])\n",
    "print(y_train[:5])\n",
    "\n",
    "print(X_train.shape)\n",
    "print(y_train.shape)"
   ]
  },
  {
   "cell_type": "code",
   "execution_count": null,
   "id": "b5ec5256-3506-4728-ba5c-3b5b75ab2e91",
   "metadata": {},
   "outputs": [],
   "source": []
  }
 ],
 "metadata": {
  "kernelspec": {
   "display_name": "Python 3 (ipykernel)",
   "language": "python",
   "name": "python3"
  },
  "language_info": {
   "codemirror_mode": {
    "name": "ipython",
    "version": 3
   },
   "file_extension": ".py",
   "mimetype": "text/x-python",
   "name": "python",
   "nbconvert_exporter": "python",
   "pygments_lexer": "ipython3",
   "version": "3.12.0"
  }
 },
 "nbformat": 4,
 "nbformat_minor": 5
}
